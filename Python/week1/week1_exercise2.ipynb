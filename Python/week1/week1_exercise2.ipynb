{
 "cells": [
  {
   "cell_type": "markdown",
   "metadata": {},
   "source": [
    "# Chapter 3"
   ]
  },
  {
   "cell_type": "markdown",
   "metadata": {},
   "source": [
    "Q1. grading function<br>\n",
    "과목별 점수를 입력하면 등급이 나오는 함수를 만들고자 한다.<br>\n",
    "학생들의 정보는 total_score에 들어있으며, 90 이상은 A, 80 이상은 B, 70 이상은 C, 그 밑은 F를 받는 함수를 만드시오.<br>\n",
    "※total_score에 없는 이름이나 과목을 입력할 시 \"다시 한 번 확인해주세요\" 메시지가 나오게 하시오.<br>\n",
    "※함수 이름은 'grading'<br>"
   ]
  },
  {
   "cell_type": "code",
   "execution_count": 27,
   "metadata": {},
   "outputs": [],
   "source": [
    "import pandas as pd"
   ]
  },
  {
   "cell_type": "code",
   "execution_count": 11,
   "metadata": {},
   "outputs": [],
   "source": [
    "total_score = pd.DataFrame({'국어':[97,100,69,80],'수학':[80,12,100,77],'영어':[86,99,60,52]}, index=['근호','성웅','예성','은하'])"
   ]
  },
  {
   "cell_type": "code",
   "execution_count": null,
   "metadata": {},
   "outputs": [],
   "source": [
    "print(total_score)"
   ]
  },
  {
   "cell_type": "code",
   "execution_count": 25,
   "metadata": {},
   "outputs": [],
   "source": [
    "def grading"
   ]
  },
  {
   "cell_type": "code",
   "execution_count": null,
   "metadata": {},
   "outputs": [],
   "source": [
    "#test1\n",
    "grading('은하','수학')"
   ]
  },
  {
   "cell_type": "code",
   "execution_count": null,
   "metadata": {},
   "outputs": [],
   "source": [
    "#test2\n",
    "grading('송민','국어')"
   ]
  },
  {
   "cell_type": "markdown",
   "metadata": {},
   "source": [
    "Q2. detecting function<br>\n",
    "술집에서 손님 중 미성년자를 거르는 함수를 만들고자 한다.<br>\n",
    "손님들의 정보는 total_visitor에 들어있다.<br>\n",
    "※함수 이름은 'detecting'<br>"
   ]
  },
  {
   "cell_type": "code",
   "execution_count": null,
   "metadata": {},
   "outputs": [],
   "source": [
    "import pandas as pd #위에서 했으면 안해도 돼요"
   ]
  },
  {
   "cell_type": "code",
   "execution_count": 55,
   "metadata": {},
   "outputs": [],
   "source": [
    "total_visitor = '19971003','19671114','19990130','20060217','20200101','20040824'"
   ]
  },
  {
   "cell_type": "code",
   "execution_count": 59,
   "metadata": {},
   "outputs": [],
   "source": [
    "def detecting(*num):\n",
    "    allowed_visitor = filter(lambda)"
   ]
  },
  {
   "cell_type": "code",
   "execution_count": null,
   "metadata": {},
   "outputs": [],
   "source": [
    "detecting(total_visitor)"
   ]
  }
 ],
 "metadata": {
  "kernelspec": {
   "display_name": "Python 3",
   "language": "python",
   "name": "python3"
  },
  "language_info": {
   "codemirror_mode": {
    "name": "ipython",
    "version": 3
   },
   "file_extension": ".py",
   "mimetype": "text/x-python",
   "name": "python",
   "nbconvert_exporter": "python",
   "pygments_lexer": "ipython3",
   "version": "3.7.4"
  }
 },
 "nbformat": 4,
 "nbformat_minor": 2
}
