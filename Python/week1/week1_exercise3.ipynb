{
 "cells": [
  {
   "cell_type": "markdown",
   "metadata": {},
   "source": [
    "chapter 3"
   ]
  },
  {
   "cell_type": "markdown",
   "metadata": {},
   "source": [
    "Q1. 이차방정식의 해 판별하기 <br>\n",
    "    'ax^2 + bx + c = 0' <br>\n",
    "    판별식 D > 0  -> '두개의 실근' 출력 <br>\n",
    "    판별식 D = 0  -> '중근' 출력<br>\n",
    "    판별식 D < 0   -> '허근' 출력<br>\n",
    "    하는 함수를 만드시오."
   ]
  },
  {
   "cell_type": "code",
   "execution_count": 1,
   "metadata": {},
   "outputs": [],
   "source": [
    "def quadratic_root(a,b,c) :\n",
    "    D = b**2 - 4*a*c #판별식 D\n",
    "    __ D > 0:\n",
    "        print(\"두개의 실근\")\n",
    "    __ D == 0:\n",
    "        x=round(-b/2*a)\n",
    "        print(\"중근\")\n",
    "    __:\n",
    "        print(\"허근\") \n",
    "#__에는 'if', 'else', 'elif' 중 선택해서 넣으시면 됩니다."
   ]
  },
  {
   "cell_type": "code",
   "execution_count": 2,
   "metadata": {},
   "outputs": [
    {
     "name": "stdout",
     "output_type": "stream",
     "text": [
      "두개의 실근\n"
     ]
    }
   ],
   "source": [
    "quadratic_root(1,-3,2)"
   ]
  },
  {
   "cell_type": "markdown",
   "metadata": {},
   "source": [
    "Q2. 순열의 갯수 구하기(npr) <br>\n",
    "n! = 1x2x3x...xn <br>\n",
    "npr = n! / (n-r)!"
   ]
  },
  {
   "cell_type": "code",
   "execution_count": 4,
   "metadata": {},
   "outputs": [],
   "source": [
    "def permutation(n,r) :\n",
    "    "
   ]
  },
  {
   "cell_type": "code",
   "execution_count": 5,
   "metadata": {},
   "outputs": [
    {
     "data": {
      "text/plain": [
       "12"
      ]
     },
     "execution_count": 5,
     "metadata": {},
     "output_type": "execute_result"
    }
   ],
   "source": [
    "permutation(4,3)"
   ]
  }
 ],
 "metadata": {
  "kernelspec": {
   "display_name": "Python 3",
   "language": "python",
   "name": "python3"
  },
  "language_info": {
   "codemirror_mode": {
    "name": "ipython",
    "version": 3
   },
   "file_extension": ".py",
   "mimetype": "text/x-python",
   "name": "python",
   "nbconvert_exporter": "python",
   "pygments_lexer": "ipython3",
   "version": "3.7.4"
  }
 },
 "nbformat": 4,
 "nbformat_minor": 2
}
