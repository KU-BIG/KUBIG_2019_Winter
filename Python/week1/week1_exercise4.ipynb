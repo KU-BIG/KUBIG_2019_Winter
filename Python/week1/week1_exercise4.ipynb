{
 "cells": [
  {
   "cell_type": "markdown",
   "metadata": {},
   "source": [
    "Chapter3"
   ]
  },
  {
   "cell_type": "markdown",
   "metadata": {},
   "source": [
    "Q1. 두 개의 숫자(num1, num2)를 비교하여 더 큰 숫자를 반환하는 함수(max)를 정의하자."
   ]
  },
  {
   "cell_type": "markdown",
   "metadata": {},
   "source": [
    "Q2. 두 개의 숫자(num1, num2)가 있을 때, 두 숫자를 포함한 범위 내의\n",
    "모든 숫자 합을 구해주는 함수(sum)을 정의하자"
   ]
  },
  {
   "cell_type": "markdown",
   "metadata": {},
   "source": [
    "Q3. 숫자들의 표준편차를 구하는 함수(stddev)를 정의해보자<br>\n",
    "<br>\n",
    "∙ nested function<br>\n",
    "∙ 평균과 분산 및 표준편차를 출력하는 내장 함수를 사용하지 않고 정의하기 (stddev함수 내에는 평균과 분산을 구하는 inner function mean()과 variance()가 존재<br>\n",
    "∙ stddev에 들어가는 숫자의 개수는 자유롭게 (* 이용)<br>\n",
    "∙ 마지막 return 값은 math.sqrt를 이용(import math)"
   ]
  },
  {
   "cell_type": "markdown",
   "metadata": {},
   "source": [
    "Q4. 1부터 9까지의 수 중 난수 8개로 구성된 리스트(a) 생성\n",
    "   생성된 숫자들을 오름차순으로 정렬하는 함수를 정의해보자.\n",
    "   \n",
    "import random<br>\n",
    "a = random.sample(range(1,20), 8)<br>\n",
    "print(a)"
   ]
  },
  {
   "cell_type": "markdown",
   "metadata": {},
   "source": []
  },
  {
   "cell_type": "markdown",
   "metadata": {},
   "source": [
    "chapter4"
   ]
  },
  {
   "cell_type": "markdown",
   "metadata": {},
   "source": [
    "Q1. floats = [4.74, 4.32, 6.39, 5.41]\n",
    "intergrs = [round ___ for ___ in ___ ]\n",
    "\n",
    "결과 = [5, 4, 6, 5]\n",
    "\n",
    "빈칸을 채워보자."
   ]
  },
  {
   "cell_type": "markdown",
   "metadata": {},
   "source": [
    "Q.2 <br>\n",
    "x = [7, 'D', 'E', 8, 9, 'F']<br>\n",
    "string = [_________________ ]<br>\n",
    "print(strings)\n",
    "\n",
    "결과 = ['D', 'E', 'F']\n",
    "\n",
    "빈칸을 한 줄의 코드로 표현해보자."
   ]
  },
  {
   "cell_type": "markdown",
   "metadata": {},
   "source": [
    "Q.3\n",
    "x = [2, 4, 1, 5]\n",
    "squares = { ________________ }\n",
    "print(squares)\n",
    "\n",
    "결과) {1: 1, 2: 4, 4: 16, 5: 25}\n",
    "\n",
    "빈칸을 한줄의 코드로 채워보자."
   ]
  }
 ],
 "metadata": {
  "kernelspec": {
   "display_name": "Python 3",
   "language": "python",
   "name": "python3"
  },
  "language_info": {
   "codemirror_mode": {
    "name": "ipython",
    "version": 3
   },
   "file_extension": ".py",
   "mimetype": "text/x-python",
   "name": "python",
   "nbconvert_exporter": "python",
   "pygments_lexer": "ipython3",
   "version": "3.7.4"
  }
 },
 "nbformat": 4,
 "nbformat_minor": 2
}
