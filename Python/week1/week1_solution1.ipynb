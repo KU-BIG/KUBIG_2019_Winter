{
 "cells": [
  {
   "cell_type": "markdown",
   "metadata": {},
   "source": [
    "※ 원하는 숫자들(num)과 정수 n을 입력하면 num 안의 수들을 1부터 n까지 곱해 그 결과를 반환해주는 함수를 만드려고 한다.\n",
    "   함수를 만들 때의 조건은 다음과 같다.\n<br>",
    "∙ multiple 함수를 정의해 문제를 푼다.\n<br>",
    "∙ multiple 함수의 입력인자로는 tuple 형태인 num을 입력받는다.(num의 숫자 개수는 자유롭게!! * 이용)\n<br>",
    "∙ multiple 함수의 안에는 inner 함수 limit이 존재하고 이 함수는 n을 입력받는다.\n<br>",
    "∙ multiple 함수는 tuple num 안의 숫자들을 각각 1부터 n까지 곱한 결과를 반환한다.<br>"
   ]
  },
  {
   "cell_type": "code",
   "execution_count": 32,
   "metadata": {},
   "outputs": [
    {
     "name": "stdout",
     "output_type": "stream",
     "text": [
      "1 * 1 = 1   1 * 2 = 2   1 * 3 = 3   1 * 4 = 4   1 * 5 = 5   \n",
      "2 * 1 = 2   2 * 2 = 4   2 * 3 = 6   2 * 4 = 8   2 * 5 = 10   \n",
      "3 * 1 = 3   3 * 2 = 6   3 * 3 = 9   3 * 4 = 12   3 * 5 = 15   \n",
      "7 * 1 = 7   7 * 2 = 14   7 * 3 = 21   7 * 4 = 28   7 * 5 = 35   \n",
      "None\n"
     ]
    }
   ],
   "source": [
    "def multiple(*num):\n",
    "    num1 = list(num)\n",
    "    def limit(n):\n",
    "        for i in num1:\n",
    "            for k in range(1,n+1):\n",
    "                print(i,\"*\",k,\"=\",i*k,end=\"   \")\n",
    "            print(\"\")\n",
    "    return limit\n",
    "    \n",
    "hi = multiple(1,2,3,7)\n",
    "answer = hi(5)\n",
    "print(answer)\n"
   ]
  },
  {
   "cell_type": "markdown",
   "metadata": {},
   "source": [
    "※ lambda를 활용하여 list 형태인 nest안에 있는 수들을 모두 합치고 각 자리의 수들을 더하시오.\n<br>",
    "∙ lambda는 list nest 안에 있는 수들을 합칠 때만 사용하면 됨\n<br>",
    "∙ functools의 reduce 함수를 import해서 활용<br>"
   ]
  },
  {
   "cell_type": "code",
   "execution_count": 60,
   "metadata": {},
   "outputs": [
    {
     "name": "stdout",
     "output_type": "stream",
     "text": [
      "28\n"
     ]
    }
   ],
   "source": [
    "from functools import reduce\n",
    "\n",
    "nest = ['28', '45', '1', '0', '8']\n",
    "result = reduce(lambda item1, item2: item1+item2, nest)\n",
    "final = 0\n",
    "for i in result:\n",
    "    final += int(i)\n",
    "print(final)"
   ]
  }
 ],
 "metadata": {
  "kernelspec": {
   "display_name": "Python 3",
   "language": "python",
   "name": "python3"
  },
  "language_info": {
   "codemirror_mode": {
    "name": "ipython",
    "version": 3
   },
   "file_extension": ".py",
   "mimetype": "text/x-python",
   "name": "python",
   "nbconvert_exporter": "python",
   "pygments_lexer": "ipython3",
   "version": "3.6.9"
  }
 },
 "nbformat": 4,
 "nbformat_minor": 2
}
