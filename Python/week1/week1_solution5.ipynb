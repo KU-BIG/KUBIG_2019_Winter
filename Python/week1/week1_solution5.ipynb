{
 "cells": [
  {
   "cell_type": "markdown",
   "metadata": {},
   "source": [
    "5명 학생의 수학과 영어 점수는 아래 문제의 값과 같다.ex) 1번째 학생 점수 수학:88, 영어:90<br>\n",
    "최종점수는 수학과 영어의 가중치를 각각 0.6과 0.4로 두고 계산한다.<br>\n",
    "zip을 활용하여 수학과 영어 점수를 합친 뒤, for 문을 활용해 최종점수 list를 구하여라.<br>\n",
    "그리고 최종점수가 75점 이상인 학생들을 고르려고 할 때, 몇 번째 학생들이 이에 해당되는지 구하여라."
   ]
  },
  {
   "cell_type": "code",
   "execution_count": 29,
   "metadata": {},
   "outputs": [
    {
     "name": "stdout",
     "output_type": "stream",
     "text": [
      "학생들의 최종점수: [88.8, 69.8, 74.19999999999999, 85.4, 71.4]\n",
      "75점이 넘은 학생들: [1, 4]\n"
     ]
    }
   ],
   "source": [
    "math = [88,65,67,93,75]\n",
    "english = [90,77,85,74,66]\n",
    "c = list(zip(math, english))\n",
    "result=[]\n",
    "num=[]\n",
    "for i in range(5):\n",
    "    result.append(0.6*c[i][0]+0.4*c[i][1])\n",
    "print(\"학생들의 최종점수:\",result)\n",
    "for k in result:\n",
    "    if k>=75:\n",
    "        num.append(result.index(k)+1)\n",
    "print(\"75점이 넘은 학생들:\",num)"
   ]
  },
  {
   "cell_type": "markdown",
   "metadata": {},
   "source": [
    "1부터 20까지의 수들 중 홀수는 세제곱, 짝수는 제곱을 한 값을 가지는 list형 num을 list comprehension을 통해 만들어라.<br>\n",
    "num_list를 입력 받고 num_list 안의 수들을 2로 나눈 몫이 짝수이면 그대로, 홀수이면 0으로 만드는 generator 함수 ulala를 정의해라.<br>\n",
    "num을 ulala에 대입해 그 결과값을 list로 표현하여라."
   ]
  },
  {
   "cell_type": "code",
   "execution_count": 40,
   "metadata": {},
   "outputs": [
    {
     "name": "stdout",
     "output_type": "stream",
     "text": [
      "[1, 4, 0, 16, 125, 36, 0, 64, 729, 100, 0, 144, 2197, 196, 0, 256, 4913, 324, 0, 400]\n"
     ]
    }
   ],
   "source": [
    "num = [i**3 if i%2 == 1 else i**2 for i in range(1,21)]\n",
    "def ulala(num_list):\n",
    "    for k in num_list:\n",
    "        if (k//2)%2 == 0:\n",
    "            yield k\n",
    "        else:\n",
    "            yield 0\n",
    "result = ulala(num)\n",
    "print(list(result))"
   ]
  }
 ],
 "metadata": {
  "kernelspec": {
   "display_name": "Python 3",
   "language": "python",
   "name": "python3"
  },
  "language_info": {
   "codemirror_mode": {
    "name": "ipython",
    "version": 3
   },
   "file_extension": ".py",
   "mimetype": "text/x-python",
   "name": "python",
   "nbconvert_exporter": "python",
   "pygments_lexer": "ipython3",
   "version": "3.6.9"
  }
 },
 "nbformat": 4,
 "nbformat_minor": 2
}
